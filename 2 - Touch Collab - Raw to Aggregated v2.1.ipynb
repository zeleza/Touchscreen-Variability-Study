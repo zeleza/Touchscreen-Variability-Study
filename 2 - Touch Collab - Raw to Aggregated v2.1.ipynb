{
 "cells": [
  {
   "cell_type": "code",
   "execution_count": 1,
   "metadata": {
    "collapsed": true
   },
   "outputs": [],
   "source": [
    "import matplotlib.pyplot as plt\n",
    "import pandas as pd\n",
    "import datetime"
   ]
  },
  {
   "cell_type": "code",
   "execution_count": 2,
   "metadata": {
    "collapsed": false
   },
   "outputs": [],
   "source": [
    "# calculate percentage correct\n",
    "def pc_correct(df):\n",
    "    main_trials = df[df['Correction_Trial']==0] # don't look at correction trials\n",
    "    score_sum = float(main_trials['Correct_Response'].sum())\n",
    "    trial_num = float(len(main_trials))\n",
    "    score = score_sum/trial_num\n",
    "    return score"
   ]
  },
  {
   "cell_type": "code",
   "execution_count": 3,
   "metadata": {
    "collapsed": true
   },
   "outputs": [],
   "source": [
    "# calculate sum of correction trials\n",
    "def cts(df):\n",
    "    cts = df['Correction_Trial'].sum()\n",
    "    return cts"
   ]
  },
  {
   "cell_type": "code",
   "execution_count": 4,
   "metadata": {
    "collapsed": true
   },
   "outputs": [],
   "source": [
    "# calculate intiation time\n",
    "def initiation_time(df):\n",
    "    initiation_time = df['Initiation_Latency'].mean()\n",
    "    return initiation_time"
   ]
  },
  {
   "cell_type": "code",
   "execution_count": 5,
   "metadata": {
    "collapsed": true
   },
   "outputs": [],
   "source": [
    "# calculate total trials without correction trials\n",
    "def total_trials_no_cts(df):\n",
    "    main_trials = df[df['Correction_Trial']==0] # don't look at correction trials\n",
    "    score = float(len(main_trials))\n",
    "    return score"
   ]
  },
  {
   "cell_type": "code",
   "execution_count": 6,
   "metadata": {
    "collapsed": true
   },
   "outputs": [],
   "source": [
    "# columns to keep for the aggregated data\n",
    "keep_list = [\"Age (months)\",\"Animal_Id\",\"Cage ID\",\"Chamber\",\"Cohort\",\"Database\",\"Date\",\"Experimenter\",\n",
    "            \"Genotype\",\"Group_Id\",\"Housing\",\"Lab site\",\"S_Plus\",\"Schedule\",\"Sequential Day\",\"Session_Id\",\n",
    "            \"Sex\",\"Single/Group\",\"Strain\",\"Time\",\"Unique_Animal_ID\",\"Unique_Cohort\"]\n",
    "\n",
    "# columns to drop from aggregated data\n",
    "drop_list = [\"Unnamed: 0\",\"Back_Beam_Breaks\",\"Check_for_errors\",\"Correct_Response\",\"Correction_Trial\",\"Feeding_Time\",\n",
    "            \"Front_Beam_Breaks\",\"ITI_Length\",\"ITI_Touches\",\"Initiation_Latency\",\"Initiation_Period_Touches\",\n",
    "            \"Lights off\",\"Post_Stimulus_Touches\",\"Response_Latency\",\"Reward_Collection_Latency\",\n",
    "            \"S_Plus_Location\",\"TimeStamp\",\"Time_In_Trial\",\"Time_To_Exit_Tray\",\"Timeout_Length\",\"Tray_Beam_Breaks\",\n",
    "            \"Trial_Number\",\"User\",\"Weight\"]"
   ]
  },
  {
   "cell_type": "code",
   "execution_count": 7,
   "metadata": {
    "collapsed": true
   },
   "outputs": [],
   "source": [
    "# columns to drop if not looking per day\n",
    "drop_day = [\"Day\",\"Sequential Day\",\"Session_Id\",\"Time\"]"
   ]
  },
  {
   "cell_type": "code",
   "execution_count": 8,
   "metadata": {
    "collapsed": false
   },
   "outputs": [],
   "source": [
    "def df_append(temp_df3,outdf):\n",
    "    toappend = pd.concat([temp_df3,outdf],axis=1)\n",
    "    return toappend"
   ]
  },
  {
   "cell_type": "code",
   "execution_count": 9,
   "metadata": {
    "collapsed": false
   },
   "outputs": [],
   "source": [
    "def agg_by_day(agg_df,temp_df1):\n",
    "    days = temp_df1['Day'].unique()\n",
    "    print(\"Day: \", end=\"\")\n",
    "    for day in days:\n",
    "        print(\" \" + str(day) + \" \", end=\"\")\n",
    "        temp_df2 = temp_df1[temp_df1['Day']==day]\n",
    "        agg_df = aggregator(agg_df,temp_df2)\n",
    "    print(\"\")\n",
    "    return agg_df"
   ]
  },
  {
   "cell_type": "code",
   "execution_count": 10,
   "metadata": {
    "collapsed": true
   },
   "outputs": [],
   "source": [
    "def aggregator(agg_df,temp_df2):\n",
    "    #print(\"agg_df: \",temp_df2)\n",
    "    #print(\"temp_df2: \",temp_df2)\n",
    "    out_data = {'Percentage Correct'    :[pc_correct(temp_df2)],\n",
    "                'Correction Trials'     :[cts(temp_df2)],\n",
    "                'Initiation Time'       :[initiation_time(temp_df2)],\n",
    "                'Total Trials No CTs'   :[total_trials_no_cts(temp_df2)]\n",
    "               }\n",
    "\n",
    "    temp_df3 = temp_df2[0:1]\n",
    "    temp_df3 = temp_df3.drop(drop_list, axis=1)\n",
    "    temp_df3 = temp_df3.reset_index(drop=True) # required to make the appending work\n",
    "    outdf = pd.DataFrame(data=out_data)\n",
    "    toappend = df_append(temp_df3,outdf)\n",
    "    agg_df = agg_df.append(toappend,sort=True)\n",
    "    return agg_df"
   ]
  },
  {
   "cell_type": "code",
   "execution_count": 11,
   "metadata": {
    "collapsed": false
   },
   "outputs": [],
   "source": [
    "# make a df with aggregated measures\n",
    "def agg_df_gen(df,byday):\n",
    "    agg_df = pd.DataFrame(columns = keep_list) # make new dataframe with old headers\n",
    "    \n",
    "    animals = df['Unique_Animal_ID'].unique()\n",
    "    for animal in animals:\n",
    "        print(\"Aggregating animal: \",animal)\n",
    "        temp_df1 = df[df['Unique_Animal_ID']==animal]\n",
    "        if(byday):\n",
    "            agg_df = agg_by_day(agg_df,temp_df1)\n",
    "        else:\n",
    "            agg_df = aggregator(agg_df,temp_df1)\n",
    "            agg_df = agg_df.drop(drop_day, axis=1)\n",
    "                \n",
    "    print(\"Finished aggregating!\")\n",
    "    return agg_df"
   ]
  },
  {
   "cell_type": "code",
   "execution_count": 12,
   "metadata": {
    "collapsed": false
   },
   "outputs": [],
   "source": [
    "def save_df(file,agg_df,byday):\n",
    "    if(byday):\n",
    "        agg_df.to_csv(file[:-4] + \" - by day - aggregated.csv\")\n",
    "    else:\n",
    "        agg_df.to_csv(file[:-4] + \" - aggregated.csv\")\n",
    "    return"
   ]
  },
  {
   "cell_type": "code",
   "execution_count": 25,
   "metadata": {
    "collapsed": true
   },
   "outputs": [],
   "source": [
    "def date_fix(raw_df):\n",
    "    raw_df.Date.astype(str)\n",
    "    raw_df.Date = pd.to_datetime(raw_df.Date, format = \"%Y%m%d\")\n",
    "    return raw_df"
   ]
  },
  {
   "cell_type": "code",
   "execution_count": 1,
   "metadata": {
    "collapsed": true
   },
   "outputs": [],
   "source": [
    "def main():\n",
    "    \n",
    "    file = input(\"Raw data file to aggregate please: \")\n",
    "    \n",
    "    print(\"Aggregating file: \",file)\n",
    "    raw_df = pd.read_csv(file)\n",
    "\n",
    "    # fix dates\n",
    "    raw_df = date_fix(raw_df)\n",
    "\n",
    "    # by day\n",
    "    byday = 0\n",
    "    agg_df = agg_df_gen(raw_df,byday)\n",
    "    save_df(file,agg_df,byday)\n",
    "\n",
    "    # by animal\n",
    "    byday = 1\n",
    "    agg_df = agg_df_gen(raw_df,byday)\n",
    "    save_df(file,agg_df,byday)\n",
    "    return"
   ]
  },
  {
   "cell_type": "code",
   "execution_count": null,
   "metadata": {
    "collapsed": false,
    "scrolled": true
   },
   "outputs": [],
   "source": [
    "main()"
   ]
  },
  {
   "cell_type": "code",
   "execution_count": null,
   "metadata": {
    "collapsed": true
   },
   "outputs": [],
   "source": []
  }
 ],
 "metadata": {
  "kernelspec": {
   "display_name": "Python 3",
   "language": "python",
   "name": "python3"
  },
  "language_info": {
   "codemirror_mode": {
    "name": "ipython",
    "version": 3
   },
   "file_extension": ".py",
   "mimetype": "text/x-python",
   "name": "python",
   "nbconvert_exporter": "python",
   "pygments_lexer": "ipython3",
   "version": "3.6.0"
  }
 },
 "nbformat": 4,
 "nbformat_minor": 2
}
